{
 "cells": [
  {
   "cell_type": "code",
   "execution_count": 1,
   "metadata": {},
   "outputs": [
    {
     "name": "stdout",
     "output_type": "stream",
     "text": [
      "\n",
      "===================================BUG REPORT===================================\n",
      "Welcome to bitsandbytes. For bug reports, please run\n",
      "\n",
      "python -m bitsandbytes\n",
      "\n",
      " and submit this information together with your error trace to: https://github.com/TimDettmers/bitsandbytes/issues\n",
      "================================================================================\n",
      "bin d:\\fifthYear\\5th_year_project\\langchain_env\\lib\\site-packages\\bitsandbytes\\libbitsandbytes_cpu.dll\n",
      "function 'cadam32bit_grad_fp32' not found\n",
      "CUDA SETUP: Loading binary d:\\fifthYear\\5th_year_project\\langchain_env\\lib\\site-packages\\bitsandbytes\\libbitsandbytes_cpu.dll...\n"
     ]
    },
    {
     "name": "stderr",
     "output_type": "stream",
     "text": [
      "d:\\fifthYear\\5th_year_project\\langchain_env\\lib\\site-packages\\bitsandbytes\\cextension.py:34: UserWarning: The installed version of bitsandbytes was compiled without GPU support. 8-bit optimizers, 8-bit multiplication, and GPU quantization are unavailable.\n",
      "  warn(\"The installed version of bitsandbytes was compiled without GPU support. \"\n"
     ]
    },
    {
     "name": "stdout",
     "output_type": "stream",
     "text": [
      "\n",
      "Processed Object Counting, Input Image: image/airport_1_jpg.rf.888faa9b857184ef83ae2a4068a39bc0.jpg, Output text: 5 airplane detected.\n"
     ]
    },
    {
     "data": {
      "text/plain": [
       "'5 airplane detected.'"
      ]
     },
     "execution_count": 1,
     "metadata": {},
     "output_type": "execute_result"
    }
   ],
   "source": [
    "# using yolov10x.pt\n",
    "from RStask import CountingFuncnction\n",
    "model=CountingFuncnction('cpu')\n",
    "txt='image/airport_1_jpg.rf.888faa9b857184ef83ae2a4068a39bc0.jpg,airplane'\n",
    "p,t=txt.split(\",\")\n",
    "model.inference(p,t)\n"
   ]
  },
  {
   "cell_type": "code",
   "execution_count": 1,
   "metadata": {},
   "outputs": [
    {
     "name": "stdout",
     "output_type": "stream",
     "text": [
      "\n",
      "===================================BUG REPORT===================================\n",
      "Welcome to bitsandbytes. For bug reports, please run\n",
      "\n",
      "python -m bitsandbytes\n",
      "\n",
      " and submit this information together with your error trace to: https://github.com/TimDettmers/bitsandbytes/issues\n",
      "================================================================================\n",
      "bin d:\\fifthYear\\5th_year_project\\langchain_env\\lib\\site-packages\\bitsandbytes\\libbitsandbytes_cpu.dll\n",
      "function 'cadam32bit_grad_fp32' not found\n",
      "CUDA SETUP: Loading binary d:\\fifthYear\\5th_year_project\\langchain_env\\lib\\site-packages\\bitsandbytes\\libbitsandbytes_cpu.dll...\n"
     ]
    },
    {
     "name": "stderr",
     "output_type": "stream",
     "text": [
      "d:\\fifthYear\\5th_year_project\\langchain_env\\lib\\site-packages\\bitsandbytes\\cextension.py:34: UserWarning: The installed version of bitsandbytes was compiled without GPU support. 8-bit optimizers, 8-bit multiplication, and GPU quantization are unavailable.\n",
      "  warn(\"The installed version of bitsandbytes was compiled without GPU support. \"\n"
     ]
    },
    {
     "name": "stdout",
     "output_type": "stream",
     "text": [
      "\n",
      "Processed Object Counting, Input Image: image/airport_1_jpg.rf.888faa9b857184ef83ae2a4068a39bc0.jpg, Output text: 5 plane detected.\n"
     ]
    },
    {
     "data": {
      "text/plain": [
       "'5 plane detected.'"
      ]
     },
     "execution_count": 1,
     "metadata": {},
     "output_type": "execute_result"
    }
   ],
   "source": [
    "# using yolov8n.pt\n",
    "from RStask import CountingFuncnction\n",
    "model=CountingFuncnction('cpu')\n",
    "txt='image/airport_1_jpg.rf.888faa9b857184ef83ae2a4068a39bc0.jpg,plane'\n",
    "p,t=txt.split(\",\")\n",
    "model.inference(p,t)\n"
   ]
  },
  {
   "cell_type": "code",
   "execution_count": 2,
   "metadata": {},
   "outputs": [
    {
     "name": "stdout",
     "output_type": "stream",
     "text": [
      "\n",
      "0: 640x640 1687.0ms\n",
      "Speed: 0.0ms preprocess, 1687.0ms inference, 5.0ms postprocess per image at shape (1, 3, 640, 640)\n"
     ]
    },
    {
     "ename": "AttributeError",
     "evalue": "'NoneType' object has no attribute 'conf'",
     "output_type": "error",
     "traceback": [
      "\u001b[1;31m---------------------------------------------------------------------------\u001b[0m",
      "\u001b[1;31mAttributeError\u001b[0m                            Traceback (most recent call last)",
      "Cell \u001b[1;32mIn[2], line 3\u001b[0m\n\u001b[0;32m      1\u001b[0m \u001b[38;5;28;01mfrom\u001b[39;00m \u001b[38;5;21;01mRStask\u001b[39;00m\u001b[38;5;21;01m.\u001b[39;00m\u001b[38;5;21;01mObjectDetection\u001b[39;00m\u001b[38;5;21;01m.\u001b[39;00m\u001b[38;5;21;01mYOLOv5\u001b[39;00m \u001b[38;5;28;01mimport\u001b[39;00m YoloDetection\n\u001b[0;32m      2\u001b[0m model\u001b[38;5;241m=\u001b[39mYoloDetection(\u001b[38;5;124m'\u001b[39m\u001b[38;5;124mcpu\u001b[39m\u001b[38;5;124m'\u001b[39m)\n\u001b[1;32m----> 3\u001b[0m det\u001b[38;5;241m=\u001b[39m\u001b[43mmodel\u001b[49m\u001b[38;5;241;43m.\u001b[39;49m\u001b[43minference\u001b[49m\u001b[43m(\u001b[49m\u001b[38;5;124;43m'\u001b[39;49m\u001b[38;5;124;43mD:/fifthYear/5th_year_project/Remote-Sensing-ChatGPT-main/image/airport_1_jpg.rf.888faa9b857184ef83ae2a4068a39bc0.jpg\u001b[39;49m\u001b[38;5;124;43m'\u001b[39;49m\u001b[43m,\u001b[49m\u001b[38;5;28;43;01mNone\u001b[39;49;00m\u001b[43m,\u001b[49m\u001b[38;5;124;43m'\u001b[39;49m\u001b[38;5;124;43moutputOD1.png\u001b[39;49m\u001b[38;5;124;43m'\u001b[39;49m\u001b[43m)\u001b[49m\n",
      "File \u001b[1;32md:\\fifthYear\\5th_year_project\\Remote-Sensing-ChatGPT-main\\RStask\\ObjectDetection\\YOLOv5.py:29\u001b[0m, in \u001b[0;36mYoloDetection.inference\u001b[1;34m(self, image_path, det_prompt, updated_image_path)\u001b[0m\n\u001b[0;32m     27\u001b[0m results \u001b[38;5;241m=\u001b[39m \u001b[38;5;28mself\u001b[39m\u001b[38;5;241m.\u001b[39mmodel(image\u001b[38;5;241m.\u001b[39mto(\u001b[38;5;28mself\u001b[39m\u001b[38;5;241m.\u001b[39mdevice), augment\u001b[38;5;241m=\u001b[39m\u001b[38;5;28;01mFalse\u001b[39;00m, val\u001b[38;5;241m=\u001b[39m\u001b[38;5;28;01mTrue\u001b[39;00m)\n\u001b[0;32m     28\u001b[0m detections \u001b[38;5;241m=\u001b[39m results[\u001b[38;5;241m0\u001b[39m]\u001b[38;5;241m.\u001b[39mboxes\n\u001b[1;32m---> 29\u001b[0m detections \u001b[38;5;241m=\u001b[39m detections[\u001b[43mdetections\u001b[49m\u001b[38;5;241;43m.\u001b[39;49m\u001b[43mconf\u001b[49m \u001b[38;5;241m>\u001b[39m \u001b[38;5;241m0.75\u001b[39m]\n\u001b[0;32m     30\u001b[0m detections_box \u001b[38;5;241m=\u001b[39m (detections\u001b[38;5;241m.\u001b[39mxyxy \u001b[38;5;241m/\u001b[39m (\u001b[38;5;241m640\u001b[39m \u001b[38;5;241m/\u001b[39m h))\u001b[38;5;241m.\u001b[39mint()\u001b[38;5;241m.\u001b[39mcpu()\u001b[38;5;241m.\u001b[39mnumpy()\n\u001b[0;32m     31\u001b[0m detection_classes \u001b[38;5;241m=\u001b[39m detections\u001b[38;5;241m.\u001b[39mcls\u001b[38;5;241m.\u001b[39mint()\u001b[38;5;241m.\u001b[39mcpu()\u001b[38;5;241m.\u001b[39mnumpy()\n",
      "\u001b[1;31mAttributeError\u001b[0m: 'NoneType' object has no attribute 'conf'"
     ]
    }
   ],
   "source": [
    "from RStask.ObjectDetection.YOLOv5 import YoloDetection\n",
    "model=YoloDetection('cpu')\n",
    "det=model.inference('D:/fifthYear/5th_year_project/Remote-Sensing-ChatGPT-main/image/airport_1_jpg.rf.888faa9b857184ef83ae2a4068a39bc0.jpg',None,'outputOD1.png')"
   ]
  },
  {
   "cell_type": "code",
   "execution_count": null,
   "metadata": {},
   "outputs": [],
   "source": []
  }
 ],
 "metadata": {
  "kernelspec": {
   "display_name": "Python 3",
   "language": "python",
   "name": "python3"
  },
  "language_info": {
   "codemirror_mode": {
    "name": "ipython",
    "version": 3
   },
   "file_extension": ".py",
   "mimetype": "text/x-python",
   "name": "python",
   "nbconvert_exporter": "python",
   "pygments_lexer": "ipython3",
   "version": "3.8.19"
  }
 },
 "nbformat": 4,
 "nbformat_minor": 2
}
