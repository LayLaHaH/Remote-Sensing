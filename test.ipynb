{
 "cells": [
  {
   "cell_type": "code",
   "execution_count": null,
   "metadata": {},
   "outputs": [],
   "source": [
    "# using yolov10x.pt\n",
    "from RStask import CountingFuncnction\n",
    "model=CountingFuncnction('cpu')\n",
    "txt='image/airport_1_jpg.rf.888faa9b857184ef83ae2a4068a39bc0.jpg,plane'\n",
    "p,t=txt.split(\",\")\n",
    "model.inference(p,t)\n"
   ]
  },
  {
   "cell_type": "code",
   "execution_count": 2,
   "metadata": {},
   "outputs": [
    {
     "name": "stdout",
     "output_type": "stream",
     "text": [
      "\n",
      "Processed Object Counting, Input Image: image/airport_1_jpg.rf.888faa9b857184ef83ae2a4068a39bc0.jpg, Output text: airplane is not a supported category for the model.\n"
     ]
    },
    {
     "data": {
      "text/plain": [
       "'airplane is not a supported category for the model.'"
      ]
     },
     "execution_count": 2,
     "metadata": {},
     "output_type": "execute_result"
    }
   ],
   "source": [
    "# using yolov8n.pt\n",
    "from RStask import CountingFuncnction\n",
    "model=CountingFuncnction('cpu')\n",
    "txt='image/airport_1_jpg.rf.888faa9b857184ef83ae2a4068a39bc0.jpg,airplane'\n",
    "p,t=txt.split(\",\")\n",
    "model.inference(p,t)\n"
   ]
  },
  {
   "cell_type": "code",
   "execution_count": 1,
   "metadata": {},
   "outputs": [
    {
     "name": "stdout",
     "output_type": "stream",
     "text": [
      "\n",
      "===================================BUG REPORT===================================\n",
      "Welcome to bitsandbytes. For bug reports, please run\n",
      "\n",
      "python -m bitsandbytes\n",
      "\n",
      " and submit this information together with your error trace to: https://github.com/TimDettmers/bitsandbytes/issues\n",
      "================================================================================\n",
      "bin d:\\fifthYear\\5th_year_project\\langchain_env\\lib\\site-packages\\bitsandbytes\\libbitsandbytes_cpu.dll\n",
      "function 'cadam32bit_grad_fp32' not found\n",
      "CUDA SETUP: Loading binary d:\\fifthYear\\5th_year_project\\langchain_env\\lib\\site-packages\\bitsandbytes\\libbitsandbytes_cpu.dll...\n"
     ]
    },
    {
     "name": "stderr",
     "output_type": "stream",
     "text": [
      "d:\\fifthYear\\5th_year_project\\langchain_env\\lib\\site-packages\\bitsandbytes\\cextension.py:34: UserWarning: The installed version of bitsandbytes was compiled without GPU support. 8-bit optimizers, 8-bit multiplication, and GPU quantization are unavailable.\n",
      "  warn(\"The installed version of bitsandbytes was compiled without GPU support. \"\n"
     ]
    },
    {
     "name": "stdout",
     "output_type": "stream",
     "text": [
      "\n",
      "Processed Landuse Segmentation, Input Image: ./image/airport_1_jpg.rf.3c38a93e805e111768dd2e37658c7c75.jpg,road, Output: outputLUS.png\n"
     ]
    },
    {
     "data": {
      "text/plain": [
       "'road segmentation result in outputLUS.png'"
      ]
     },
     "execution_count": 1,
     "metadata": {},
     "output_type": "execute_result"
    }
   ],
   "source": [
    "from RStask import LanduseFunction\n",
    "model=LanduseFunction('cpu')\n",
    "model.inference('./image/airport_1_jpg.rf.3c38a93e805e111768dd2e37658c7c75.jpg','road','outputLUS.png')"
   ]
  },
  {
   "cell_type": "code",
   "execution_count": null,
   "metadata": {},
   "outputs": [],
   "source": []
  },
  {
   "cell_type": "code",
   "execution_count": 1,
   "metadata": {},
   "outputs": [
    {
     "name": "stdout",
     "output_type": "stream",
     "text": [
      "\n",
      "===================================BUG REPORT===================================\n",
      "Welcome to bitsandbytes. For bug reports, please run\n",
      "\n",
      "python -m bitsandbytes\n",
      "\n",
      " and submit this information together with your error trace to: https://github.com/TimDettmers/bitsandbytes/issues\n",
      "================================================================================\n",
      "bin d:\\fifthYear\\5th_year_project\\langchain_env\\lib\\site-packages\\bitsandbytes\\libbitsandbytes_cpu.dll\n",
      "function 'cadam32bit_grad_fp32' not found\n",
      "CUDA SETUP: Loading binary d:\\fifthYear\\5th_year_project\\langchain_env\\lib\\site-packages\\bitsandbytes\\libbitsandbytes_cpu.dll...\n"
     ]
    },
    {
     "name": "stderr",
     "output_type": "stream",
     "text": [
      "d:\\fifthYear\\5th_year_project\\langchain_env\\lib\\site-packages\\bitsandbytes\\cextension.py:34: UserWarning: The installed version of bitsandbytes was compiled without GPU support. 8-bit optimizers, 8-bit multiplication, and GPU quantization are unavailable.\n",
      "  warn(\"The installed version of bitsandbytes was compiled without GPU support. \"\n"
     ]
    },
    {
     "name": "stdout",
     "output_type": "stream",
     "text": [
      "\n",
      "Processed Landuse Segmentation, Input Image: ./image/airport_1_jpg.rf.3c38a93e805e111768dd2e37658c7c75.jpg,building, Output: outputLUS1.png\n"
     ]
    },
    {
     "data": {
      "text/plain": [
       "'building segmentation result in outputLUS1.png'"
      ]
     },
     "execution_count": 1,
     "metadata": {},
     "output_type": "execute_result"
    }
   ],
   "source": [
    "from RStask import LanduseFunction\n",
    "model=LanduseFunction('cpu')\n",
    "model.inference('./image/airport_1_jpg.rf.3c38a93e805e111768dd2e37658c7c75.jpg','building','outputLUS1.png')"
   ]
  },
  {
   "cell_type": "code",
   "execution_count": 1,
   "metadata": {},
   "outputs": [
    {
     "name": "stdout",
     "output_type": "stream",
     "text": [
      "\n",
      "===================================BUG REPORT===================================\n",
      "Welcome to bitsandbytes. For bug reports, please run\n",
      "\n",
      "python -m bitsandbytes\n",
      "\n",
      " and submit this information together with your error trace to: https://github.com/TimDettmers/bitsandbytes/issues\n",
      "================================================================================\n",
      "bin d:\\fifthYear\\5th_year_project\\langchain_env\\lib\\site-packages\\bitsandbytes\\libbitsandbytes_cpu.dll\n",
      "function 'cadam32bit_grad_fp32' not found\n",
      "CUDA SETUP: Loading binary d:\\fifthYear\\5th_year_project\\langchain_env\\lib\\site-packages\\bitsandbytes\\libbitsandbytes_cpu.dll...\n"
     ]
    },
    {
     "name": "stderr",
     "output_type": "stream",
     "text": [
      "d:\\fifthYear\\5th_year_project\\langchain_env\\lib\\site-packages\\bitsandbytes\\cextension.py:34: UserWarning: The installed version of bitsandbytes was compiled without GPU support. 8-bit optimizers, 8-bit multiplication, and GPU quantization are unavailable.\n",
      "  warn(\"The installed version of bitsandbytes was compiled without GPU support. \"\n"
     ]
    },
    {
     "name": "stdout",
     "output_type": "stream",
     "text": [
      "Initializing InstanceSegmentation\n",
      "\n",
      "Processed Instance Segmentation, Input Image: ./image/airport_1_jpg.rf.3c38a93e805e111768dd2e37658c7c75.jpg,plane, Output SegMap: outputISSS.png\n"
     ]
    },
    {
     "data": {
      "text/plain": [
       "'outputISSS.png'"
      ]
     },
     "execution_count": 1,
     "metadata": {},
     "output_type": "execute_result"
    }
   ],
   "source": [
    "from RStask import InstanceFunction\n",
    "model=InstanceFunction('cpu')\n",
    "model.inference('./image/airport_1_jpg.rf.3c38a93e805e111768dd2e37658c7c75.jpg','plane','outputISSS.png')"
   ]
  },
  {
   "cell_type": "code",
   "execution_count": null,
   "metadata": {},
   "outputs": [],
   "source": []
  }
 ],
 "metadata": {
  "kernelspec": {
   "display_name": "Python 3",
   "language": "python",
   "name": "python3"
  },
  "language_info": {
   "codemirror_mode": {
    "name": "ipython",
    "version": 3
   },
   "file_extension": ".py",
   "mimetype": "text/x-python",
   "name": "python",
   "nbconvert_exporter": "python",
   "pygments_lexer": "ipython3",
   "version": "3.8.19"
  }
 },
 "nbformat": 4,
 "nbformat_minor": 2
}
